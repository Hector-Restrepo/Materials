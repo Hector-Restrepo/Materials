{
 "cells": [
  {
   "cell_type": "markdown",
   "metadata": {},
   "source": [
    "# Data Bootcamp:  Code Practice A\n",
    "\n",
    "Optional Code Practice A:  Jupyter basics and Python's **[graphics tools](https://davebackus.gitbooks.io/test/content/graphs1.html)** (the Matplotlib package). The goals are to become familiar with Jupyter and Matplotlib and to explore some **new datasets**.  The data management part of this goes beyond what we've done in class.  We recommend you just run the code provided and focus on the graphs for now.  \n",
    "\n",
    "This notebook written by Dave Backus for the NYU Stern course [Data Bootcamp](https://nyu.data-bootcamp.com/).  \n",
    "\n",
    "**Check Jupyter before we start.** Run the code below and make sure it works.  "
   ]
  },
  {
   "cell_type": "code",
   "execution_count": null,
   "metadata": {
    "collapsed": false
   },
   "outputs": [],
   "source": [
    "# to make sure things are working, run this \n",
    "import pandas as pd\n",
    "print('Pandas version: ', pd.__version__) "
   ]
  },
  {
   "cell_type": "markdown",
   "metadata": {},
   "source": [
    "If you get something like \"Pandas version:  0.17.1\" you're fine.  If you get an error, bring your computer by and ask for help.  If you're unusually brave, go to [StackOverflow](http://stackoverflow.com/a/19961403/804513) and read the instructions.  Then come ask for help.  (This has to do with how your computer processes unicode.  When you hear that word -- unicode -- you should run away at high speed.)     "
   ]
  },
  {
   "cell_type": "markdown",
   "metadata": {},
   "source": [
    "## Question 1. Setup \n",
    "\n",
    "Import packages, arrange for graphs to display in the notebook. "
   ]
  },
  {
   "cell_type": "code",
   "execution_count": null,
   "metadata": {
    "collapsed": true
   },
   "outputs": [],
   "source": [
    "import pandas as pd\n",
    "import matplotlib.pyplot as plt\n",
    "import datetime as dt \n",
    "%matplotlib inline"
   ]
  },
  {
   "cell_type": "markdown",
   "metadata": {},
   "source": [
    "**Remind yourself:**\n",
    "\n",
    "* What does the `pandas` package do?\n",
    "* What does the `matplotlib` package do?  \n",
    "* What does `%matplotlib inline` do?  "
   ]
  },
  {
   "cell_type": "markdown",
   "metadata": {},
   "source": [
    "## Question 2.  Jupyter basics \n",
    "\n",
    "* We refer to the cell that's highlighted as the **current cell**.  \n",
    "* Clicking once on any cell makes it the current cell.  Clicking again allows you to edit it.   \n",
    "* The + in the toolbar at the top creates a new cell below the current cell.  \n",
    "* Change a cell from Code to Markdown (in other words, text) with the dropdown menu in the toolbar.  \n",
    "* To run a cell, hit shift-enter or click on the run-cell icon in the tooolbar (sideways triangle and vertical line). \n",
    "* For more information, click on Help at the top.  User Interface Tour is a good place to start.\n",
    "\n",
    "Practice with the following:  \n",
    "\n",
    "* Make this cell the current cell. \n",
    "* Add an empty cell below it.  \n",
    "* Add text to the new cell:  your name and the date, for example.  \n",
    "* *Optional:*  Add a link to your LinkedIn or Facebook page.  *Hint:* Look at the text in the top cell to find an example of a link.  \n",
    "* Run the cell.  "
   ]
  },
  {
   "cell_type": "markdown",
   "metadata": {},
   "source": [
    "## Question 3. Winner take all and the long tail in the US beer industry\n",
    "\n",
    "The internet has produced some interesting market behavior, music being a great example.  Among them:  \n",
    "\n",
    "* Winner take all.  The large producers (Beyonce, for example) take larger shares of the market than they had in the past.  \n",
    "* The long tail.  At the same time, small producers in aggregate increase their share.  \n",
    "\n",
    "Curiously enough, we see the same thing in the US beer industry:   \n",
    "\n",
    "* Scale economies and a reduction in transportation costs (the interstate highway system was built in the 1950s and 60s) led to consolidation, with the large firms getting larger, and the small ones either sellingout or going bankrupt.  (How many beer brands can you think of that no longer exist?)  \n",
    "* Starting in the 1980s, we saw a significant increase in the market share of small firms (\"craft brewers\") overall, even though each of them remains small.  \n",
    "\n",
    "We illustrate this with data from Victor and Carol Tremblay that describe the output of the top 100 US beer producers from 1947 to 2004.  This is background data from their book, [The US Brewing Industry](http://www.amazon.com/The-US-Brewing-Industry-Economic/dp/0262512637), MIT Press, 2004.  See [here](http://people.oregonstate.edu/~tremblac/pdf/Appendix%20A%20Weinberg%20Data.pdf) for the names of the brewers.  Output is measured in thousands of 31-gallon barrels.  "
   ]
  },
  {
   "cell_type": "markdown",
   "metadata": {},
   "source": [
    "**Data manipulation.** The data manipulation goes beyond what we've done in class.  You're free to ignore it, but here's the idea.  \n",
    "\n",
    "* The spreadsheet contains output by firms ranked 1 to 100 in size.  Each row refers to a specific year and includes the outputs of firms in order of size.  We don't have their names.  \n",
    "* We transpose this so that the columns are years and include output for the top-100 firms.  The row labels are the size rank of the firm.  \n",
    "* We then plot the size against the rank for four years to see how it has changed.  "
   ]
  },
  {
   "cell_type": "code",
   "execution_count": null,
   "metadata": {
    "collapsed": false,
    "scrolled": true
   },
   "outputs": [],
   "source": [
    "url = 'http://pages.stern.nyu.edu/~dbackus/Data/beer_production_1947-2004.xlsx'\n",
    "beer = pd.read_excel(url, skiprows=12, index_col=0)\n",
    "\n",
    "print('Dimensions:', beer.shape)\n",
    "beer[list(range(1,11))].head(3)"
   ]
  },
  {
   "cell_type": "code",
   "execution_count": null,
   "metadata": {
    "collapsed": false,
    "scrolled": true
   },
   "outputs": [],
   "source": [
    "vars = list(range(1,101))   # extract top 100 firms \n",
    "pdf = beer[vars].T          # transpose (flip rows and columns)\n",
    "pdf[[1947, 1967, 1987, 2004]].head()"
   ]
  },
  {
   "cell_type": "markdown",
   "metadata": {},
   "source": [
    "**Question.** Can you see consolidation here?"
   ]
  },
  {
   "cell_type": "code",
   "execution_count": null,
   "metadata": {
    "collapsed": false
   },
   "outputs": [],
   "source": [
    "# a basic plot \n",
    "fig, ax = plt.subplots()\n",
    "\n",
    "pdf[1947].plot(ax=ax, logy=True)\n",
    "pdf[1967].plot(ax=ax, logy=True)\n",
    "pdf[1987].plot(ax=ax, logy=True)\n",
    "pdf[2004].plot(ax=ax, logy=True)\n",
    "ax.legend()"
   ]
  },
  {
   "cell_type": "markdown",
   "metadata": {
    "collapsed": true
   },
   "source": [
    "**Answer these questions below.** Code is sufficient, but it's often helpful to add comments to remind yourself what you did, and why.  \n",
    "\n",
    "* Get help for the `set.title` method by typing `ax.set_title?` in a new cell and running it.  Note that you can open the documentation this produces in a separate tab with the icon in the upper right (hover text = \"Open the pager in an external window\").  \n",
    "* Add a title with `ax.set_title('Your title')`.  \n",
    "* Change the fontsize of the title to 14.  \n",
    "* What happens if we add the argument/parameter `lw=2` to the `ax.plot()` statements?  \n",
    "* Add a label to the x axis with `ax.set_xlabel()`.  \n",
    "* Add a label to the y axis.  \n",
    "* Why did we use a log scale (`logy=True`)?  What happens if we don't?\n",
    "* Use the `color` argument/parameter to choose a more effective set of colors.  \n",
    "* In what sense do you see \"winner takes all\"?  A \"long tail\"?    "
   ]
  },
  {
   "cell_type": "code",
   "execution_count": null,
   "metadata": {
    "collapsed": true
   },
   "outputs": [],
   "source": []
  },
  {
   "cell_type": "code",
   "execution_count": null,
   "metadata": {
    "collapsed": true
   },
   "outputs": [],
   "source": []
  },
  {
   "cell_type": "code",
   "execution_count": null,
   "metadata": {
    "collapsed": true
   },
   "outputs": [],
   "source": []
  },
  {
   "cell_type": "markdown",
   "metadata": {},
   "source": [
    "## Question 4.  Japan's aging population \n",
    "\n",
    "Populations are getting older throughout the world, but Japan is a striking example.  One of our favorite quotes:\n",
    "\n",
    "> Last year, for the first time, sales of adult diapers in Japan exceeded those for babies. \n",
    "\n",
    "Let's see what the numbers look like using projections fron the [United Nations' Population Division](http://esa.un.org/unpd/wpp/Download/Standard/Population/).  They have several projections; we use what they call the \"medium variant.\" \n",
    "\n",
    "We have a similar issue with the data:  population by age for a given country and date goes across rows, not down columns.  So we choose the ones we want and transpose them.  Again, more than we've done so far.  "
   ]
  },
  {
   "cell_type": "code",
   "execution_count": null,
   "metadata": {
    "collapsed": false
   },
   "outputs": [],
   "source": [
    "# data input (takes about 20 seconds on a wireless network)\n",
    "url1 = 'http://esa.un.org/unpd/wpp/DVD/Files/'\n",
    "url2 = '1_Indicators%20(Standard)/EXCEL_FILES/1_Population/'\n",
    "url3 = 'WPP2017_POP_F07_1_POPULATION_BY_AGE_BOTH_SEXES.XLSX'\n",
    "url = url1 + url2 + url3 \n",
    "\n",
    "cols = [2, 4, 5] + list(range(6,28))\n",
    "prj = pd.read_excel(url, sheetname=1, skiprows=16, parse_cols=cols, na_values=['…'])\n",
    "print('Dimensions: ', prj.shape)\n",
    "print('Column labels: ', prj.columns)"
   ]
  },
  {
   "cell_type": "code",
   "execution_count": null,
   "metadata": {
    "collapsed": false
   },
   "outputs": [],
   "source": [
    "# rename some variables \n",
    "pop = prj\n",
    "pop = pop.rename(columns={'Reference date (as of 1 July)': 'Year', \n",
    "                          'Region, subregion, country or area *': 'Country', \n",
    "                          'Country code': 'Code'})\n",
    "# select Japan and years \n",
    "countries = ['Japan']\n",
    "years     = [2015, 2035, 2055, 2075, 2095]\n",
    "pop = pop[pop['Country'].isin(countries) & pop['Year'].isin(years)]\n",
    "pop = pop.drop(['Country', 'Code'], axis=1)\n",
    "pop = pop.set_index('Year').T\n",
    "pop = pop/1000    # convert population from thousands to millions \n",
    "pop.head()"
   ]
  },
  {
   "cell_type": "code",
   "execution_count": null,
   "metadata": {
    "collapsed": false
   },
   "outputs": [],
   "source": [
    "pop.tail()"
   ]
  },
  {
   "cell_type": "markdown",
   "metadata": {},
   "source": [
    "**Comment.** Now we have the number of people in any five-year age group running down columns.  The column labels are the years.  "
   ]
  },
  {
   "cell_type": "markdown",
   "metadata": {},
   "source": [
    "With the dataframe `df`:  \n",
    "\n",
    "* Plot the current age distribution with `pop[[2015]].plot()`.  Note that `2015` here does not have quotes around it:  it's an unusual case of integer column labels. \n",
    "* Plot the current age distribution as a bar chart.  Which do you think looks better?  \n",
    "* Create figure and axis objects \n",
    "* Use the axis object to plot the age distribution for all the years in the dataframe.  \n",
    "* Add titles and axis labels. \n",
    "* Plot the age distribution for each date in a separate subplot.  What argument parameter does this?  *Bonus points:* Change the size of the figure to accomodate the subplots.  "
   ]
  },
  {
   "cell_type": "code",
   "execution_count": null,
   "metadata": {
    "collapsed": false
   },
   "outputs": [],
   "source": []
  },
  {
   "cell_type": "code",
   "execution_count": null,
   "metadata": {
    "collapsed": true
   },
   "outputs": [],
   "source": []
  },
  {
   "cell_type": "markdown",
   "metadata": {},
   "source": [
    "## Question 5.  Dynamics of the yield curve \n",
    "\n",
    "One of our favorite topics is the yield curve:  a plot of the yield to maturity on a bond against the bond's maturity.  The foundation here is yields on zero coupon bonds, which are simpler objects than yields on coupon bonds.  \n",
    "\n",
    "We often refer to bond yields rising or falling, but in fact the yield curve often does different things at different maturities.  We will see that here.  For several years, short yields have been stuck at zero, yet yields for bond with maturities of two years and above have varied quite a bit.  \n",
    "\n",
    "We use the Fed's well-known [Gurkaynak, Sack, and Wright data](http://www.federalreserve.gov/pubs/feds/2006/200628/200628abs.html), which provides daily data on US Treasury yields from 1961 to the present.  The Fed posts the data, but it's in an unfriendly format.  So we saved it as a csv file, which we read in below.  The variables are yields:  `SVENYnn` is the yield for maturity `nn` years.  "
   ]
  },
  {
   "cell_type": "code",
   "execution_count": null,
   "metadata": {
    "collapsed": false
   },
   "outputs": [],
   "source": [
    "# data input (takes about 20 seconds on a wireless network)\n",
    "url = 'http://pages.stern.nyu.edu/~dbackus/Data/feds200628.csv'\n",
    "gsw = pd.read_csv(url, skiprows=9, index_col=0, usecols=list(range(11)), parse_dates=True) \n",
    "print('Dimensions: ', gsw.shape)\n",
    "print('Column labels: ', gsw.columns)\n",
    "print('Row labels: ', gsw.index)"
   ]
  },
  {
   "cell_type": "code",
   "execution_count": null,
   "metadata": {
    "collapsed": false
   },
   "outputs": [],
   "source": [
    "# grab recent data \n",
    "df = gsw[gsw.index >= dt.datetime(2010,1,1)]\n",
    "# convert to annual, last day of year\n",
    "df = df.resample('A', how='last').sort_index()\n",
    "df.head()"
   ]
  },
  {
   "cell_type": "code",
   "execution_count": null,
   "metadata": {
    "collapsed": false
   },
   "outputs": [],
   "source": [
    "df.columns = list(range(1,11))\n",
    "ylds = df.T\n",
    "ylds.head(3)"
   ]
  },
  {
   "cell_type": "markdown",
   "metadata": {},
   "source": [
    "With the dataframe `ylds`:  \n",
    "\n",
    "* Create figure and axis objects \n",
    "* Use the axis object to plot the yield curve for all the years in the dataframe.  \n",
    "* Add titles and axis labels. \n",
    "* Explain what you see:  What happened to the yield curve over the past six years? \n",
    "* **Challenging.**  Compute the mean yield for each maturity.  Plot them on the same graph in black.  "
   ]
  },
  {
   "cell_type": "code",
   "execution_count": null,
   "metadata": {
    "collapsed": true
   },
   "outputs": [],
   "source": []
  },
  {
   "cell_type": "code",
   "execution_count": null,
   "metadata": {
    "collapsed": true
   },
   "outputs": [],
   "source": []
  },
  {
   "cell_type": "code",
   "execution_count": null,
   "metadata": {
    "collapsed": true
   },
   "outputs": [],
   "source": []
  }
 ],
 "metadata": {
  "anaconda-cloud": {},
  "kernelspec": {
   "display_name": "Python [default]",
   "language": "python",
   "name": "python3"
  },
  "language_info": {
   "codemirror_mode": {
    "name": "ipython",
    "version": 3
   },
   "file_extension": ".py",
   "mimetype": "text/x-python",
   "name": "python",
   "nbconvert_exporter": "python",
   "pygments_lexer": "ipython3",
   "version": "3.5.2"
  }
 },
 "nbformat": 4,
 "nbformat_minor": 0
}
