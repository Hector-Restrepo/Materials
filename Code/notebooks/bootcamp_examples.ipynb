{
 "cells": [
  {
   "cell_type": "markdown",
   "metadata": {},
   "source": [
    "# Data Bootcamp:  Examples\n",
    "\n",
    "Most of what we do in this course is find some data that interests us, read it into Python, organize it in a convenient form, and produce a graph.  The details vary, but that's the general plan.  The best-case scenario:  The graph tells us something we don't know, and points to other things we'd like to follow up on.  As for the Python code: You'll be able to do all this and more by the end of the term.  \n",
    "\n",
    "Most of this runs with packages that come pre-installed with the [Anaconda distribution](https://www.continuum.io/downloads). The exceptions are the options example, which uses the pandas-datareader package, and the heatmap we produced for economic indicators using the seaborn package. We'll talk more about this later, but you can install them from the terminal or command line with `conda install package`.\n",
    "\n",
    "This IPython notebook was created by Dave Backus, Chase Coleman, and Spencer Lyon for the NYU Stern course [Data Bootcamp](https://nyu.data-bootcamp.com/).  "
   ]
  },
  {
   "cell_type": "markdown",
   "metadata": {},
   "source": [
    "## Preliminaries\n",
    "\n",
    "The tradition is to put import statements at the top and be done with them.  But since we sometimes run sections of code separately, we've repeated some of them below.  That's ok, a second import is redundant but does only aesthetic harm.  "
   ]
  },
  {
   "cell_type": "code",
   "execution_count": null,
   "metadata": {
    "collapsed": false
   },
   "outputs": [],
   "source": [
    "# import packages \n",
    "import pandas as pd                   # data management\n",
    "import matplotlib.pyplot as plt       # graphics \n",
    "import matplotlib as mpl              # graphics parameters\n",
    "import numpy as np                    # numerical calculations \n",
    "\n",
    "# IPython command, puts plots in notebook \n",
    "%matplotlib inline\n",
    "\n",
    "# check Python version \n",
    "import datetime as dt \n",
    "import sys\n",
    "print('Today is', dt.date.today())\n",
    "print('What version of Python are we running? \\n', sys.version, sep='') "
   ]
  },
  {
   "cell_type": "markdown",
   "metadata": {},
   "source": [
    "## Example:  US economic conditions\n",
    "\n",
    "We see a lot of variation in GDP growth rates in all countries.  It's not obvious why, but it's  a fact of life, and one that investors and other business analysts track closely.  Basic numbers like GDP only come out quarterly, and with at least a one month lag, so we're often in the position of not knowing how the economy is doing now, much less how it will do in the future.  To get a clearer sense of current conditions, analysts typically look at a wide range of indicators.  Many of these indicators are available more quickly than GDP.  Since they typically move up and down with GDP, we can use their movements to infer what GDP might be doing.  \n",
    "\n",
    "Of the hundreds of economic indicators, some of the most popular (with their FRED codes) are \n",
    "\n",
    "* INDPRO:  industrial production\n",
    "* PAYEMS:  nonfarm employment \n",
    "* AWHMAN:  average weekly hours worked in manufacturing\n",
    "* PERMIT:  permits for new housing \n",
    "* UMCSENT: consumer sentiment \n",
    "\n",
    "All of them are monthly.  You can find more about this kind of thing in [our book](http://www.stern.nyu.edu/experience-stern/about/departments-centers-initiatives/centers-of-research/global-economy-business/development-initiatives/global-economy-course), chapter 11.  "
   ]
  },
  {
   "cell_type": "code",
   "execution_count": null,
   "metadata": {
    "collapsed": false
   },
   "outputs": [],
   "source": [
    "# get data from FRED\n",
    "import pandas as pd \n",
    "from pandas_datareader import data, wb\n",
    "import datetime as dt                  # handles dates \n",
    "\n",
    "# get data \n",
    "indicators = ['INDPRO', 'PAYEMS', 'AWHMAN', 'PERMIT', 'UMCSENT']\n",
    "start_date = dt.datetime(1970, 1, 1)\n",
    "inds = data.DataReader(indicators, \"fred\", start_date)\n",
    "end = inds.index[-1]\n",
    "\n",
    "# yoy growth rates \n",
    "g = inds.pct_change(periods=12).dropna()\n",
    "# standardize\n",
    "g_std = (g - g.mean()) / g.std()\n",
    "gs = g_std\n",
    "\n",
    "# correlations \n",
    "g_std.corr()"
   ]
  },
  {
   "cell_type": "code",
   "execution_count": null,
   "metadata": {
    "collapsed": false
   },
   "outputs": [],
   "source": [
    "# plot \n",
    "fig, ax = plt.subplots()\n",
    "g_std.plot(ax=ax) \n",
    "ax.set_title('Economic indicators', fontsize=14, loc='left')\n",
    "ax.set_ylabel('Standard deviations from mean')\n",
    "ax.set_xlabel('')\n",
    "ax.hlines(y=0, xmin=start_date, xmax=end, linestyles='dashed')\n",
    "ax.legend().set_visible(False)"
   ]
  },
  {
   "cell_type": "code",
   "execution_count": null,
   "metadata": {
    "collapsed": false
   },
   "outputs": [],
   "source": [
    "# focus on recent past \n",
    "recent_date = dt.datetime(2011, 1, 1)\n",
    "g_std = g_std[g_std.index>=recent_date]"
   ]
  },
  {
   "cell_type": "code",
   "execution_count": null,
   "metadata": {
    "collapsed": false
   },
   "outputs": [],
   "source": [
    "fig, ax = plt.subplots()\n",
    "g_std.plot(ax=ax)\n",
    "ax.set_title('Zoom in on recent past', fontsize=14, loc='left')\n",
    "ax.set_ylabel('Standard deviations from mean')\n",
    "ax.set_xlabel('')\n",
    "ax.hlines(y=0, xmin=recent_date, xmax=end, linestyles='dashed')\n",
    "ax.legend(loc='upper left', fontsize=10, handlelength=2, labelspacing=0.15)"
   ]
  },
  {
   "cell_type": "markdown",
   "metadata": {},
   "source": [
    "**Comment.** Chase likes heatmaps.   The one that follows needs work, but it's an attempt to reproduce the previous graph as a heatmap, where the value of the variable is represented by the color and its intensity.  Dark red:  large postive value.  Dark blue:  large negative value.  Light colors:  small values.  "
   ]
  },
  {
   "cell_type": "code",
   "execution_count": null,
   "metadata": {
    "collapsed": false
   },
   "outputs": [],
   "source": [
    "import seaborn as sns      # graphics packages\n",
    "fig, ax = plt.subplots()\n",
    "sns.heatmap(g_std, linewidths=.5, ax=ax)\n",
    "ax.set_yticklabels(g_std.index, visible=False);"
   ]
  },
  {
   "cell_type": "markdown",
   "metadata": {
    "collapsed": true
   },
   "source": [
    "**Comment.** This needs some work on the dates.  "
   ]
  },
  {
   "cell_type": "markdown",
   "metadata": {},
   "source": [
    "### Questions\n",
    "\n",
    "* What would you change in this picture?\n",
    "* What did you learn?\n",
    "* What else would you like to know?\n",
    "* Where does the data come from?    "
   ]
  },
  {
   "cell_type": "markdown",
   "metadata": {},
   "source": [
    "The following two lines reset the graphics to the pyplot standard.  If we ignore them, we get the seaborn standard, which most people think looks better.  If you don't have seaborn installed, none of this matters.  "
   ]
  },
  {
   "cell_type": "code",
   "execution_count": null,
   "metadata": {
    "collapsed": false
   },
   "outputs": [],
   "source": [
    "# reset graphics (or not) \n",
    "#mpl.rcParams.update(mpl.rcParamsDefault)\n",
    "#%matplotlib inline"
   ]
  },
  {
   "cell_type": "code",
   "execution_count": null,
   "metadata": {
    "collapsed": true
   },
   "outputs": [],
   "source": []
  },
  {
   "cell_type": "markdown",
   "metadata": {},
   "source": [
    "## Example:  Employment trends  \n",
    "\n",
    "Not long ago, the US had more people working (a higher fraction of the adult population) than many other developed countries.  Over the past 15 years things have flipped.  The deep question is why, but here we simply report what we know.   \n",
    "\n",
    "The key variables are the **employment rate** (fraction of people aged 25-54) and the **participation rate** (fraction either working or unemployed).  They're similar but the latter irons out some of the cyclical fluctuations.  We get the data from FRED, but they get it from the OECD's Main Economic Indicators, which covers mostly rich countries.  "
   ]
  },
  {
   "cell_type": "code",
   "execution_count": null,
   "metadata": {
    "collapsed": false
   },
   "outputs": [],
   "source": [
    "# countries = AU, CA, CH, DE, ES, EU, EZ, FR, GB, JP, KR, NL, O1 (OECD), SE, US, ZA \n",
    "countries = ['CA', 'DE', 'GB', 'JP', 'US']\n",
    "emcodes = ['LREM25TT' + c + 'Q156S' for c in countries]\n",
    "lrcodes = ['LRAC25TT' + c + 'Q156S' for c in countries]\n",
    "\n",
    "start_date = dt.datetime(2000, 1, 1)\n",
    "em = data.DataReader(emcodes, 'fred', start_date)\n",
    "lr = data.DataReader(lrcodes, 'fred', start_date)\n",
    "em.columns = countries\n",
    "lr.columns = countries\n",
    "em.head(3)"
   ]
  },
  {
   "cell_type": "code",
   "execution_count": null,
   "metadata": {
    "collapsed": false
   },
   "outputs": [],
   "source": [
    "def emplot(em, title):\n",
    "    fig, ax = plt.subplots()\n",
    "    em.plot(ax=ax, lw=2)\n",
    "    ax.set_title(title, fontsize=14, loc='left')\n",
    "    ax.set_xlabel('')\n",
    "    ax.set_ylabel('Percent')\n",
    "    ax.legend(loc='best', fontsize=8, handlelength=2, labelspacing=0.1)\n",
    "    \n",
    "emplot(em, 'Employment rates, age 25-54')\n",
    "emplot(lr, 'Participation rates, age 25-54')"
   ]
  },
  {
   "cell_type": "markdown",
   "metadata": {},
   "source": [
    "### Questions\n",
    "\n",
    "* What would you change in this picture?\n",
    "* What did you learn?\n",
    "* What else would you like to know?\n",
    "* Where does the data come from?   "
   ]
  },
  {
   "cell_type": "code",
   "execution_count": null,
   "metadata": {
    "collapsed": true
   },
   "outputs": [],
   "source": []
  },
  {
   "cell_type": "code",
   "execution_count": null,
   "metadata": {
    "collapsed": true
   },
   "outputs": [],
   "source": []
  },
  {
   "cell_type": "markdown",
   "metadata": {},
   "source": [
    "## Example:  Government debt \n",
    "\n",
    "One of the traditional ways for a country to get into trouble is to issue so much debt that investors worry about getting paid back.  How much is that?  Hard to say, but we'll look at some debt numbers from the IMF's World Economic Outlook or [WEO](https://www.imf.org/external/ns/cs.aspx?id=28), a popular source of international data on debt, deficits, and other macroeconomic indicators.  We use numbers for the ratio of government debt to GDP, a standard indicator of public indebtedness.  \n",
    "\n",
    "Given recent events, we pay special attention to Argentina and Greece.  "
   ]
  },
  {
   "cell_type": "code",
   "execution_count": null,
   "metadata": {
    "collapsed": false
   },
   "outputs": [],
   "source": [
    "%%time \n",
    "\n",
    "url = 'http://www.imf.org/external/pubs/ft/weo/2016/02/weodata/WEOOct2016all.xls'\n",
    "weo = pd.read_csv(url, sep='\\t', thousands=',', na_values=['n/a', '--']) \n",
    "weo.shape\n",
    "#weo"
   ]
  },
  {
   "cell_type": "code",
   "execution_count": null,
   "metadata": {
    "collapsed": false
   },
   "outputs": [],
   "source": [
    "list(weo[list(range(12))])"
   ]
  },
  {
   "cell_type": "code",
   "execution_count": null,
   "metadata": {
    "collapsed": false
   },
   "outputs": [],
   "source": [
    "country_guide = weo[['ISO', 'Country']].drop_duplicates().set_index('ISO')\n",
    "\n",
    "variable_guide = weo[['WEO Subject Code', 'Subject Descriptor', 'Subject Notes']].drop_duplicates().set_index('WEO Subject Code')\n",
    "variable_guide.head(3)"
   ]
  },
  {
   "cell_type": "code",
   "execution_count": null,
   "metadata": {
    "collapsed": false
   },
   "outputs": [],
   "source": [
    "variables = ['GGXWDG_NGDP']\n",
    "countries = ['ARG', 'DEU', 'FRA', 'GRC', 'USA']\n",
    "debt = weo[weo['ISO'].isin(countries) & weo['WEO Subject Code'].isin(variables)]\n",
    "some = [3] + list(range(9,44))\n",
    "debt = debt[some].set_index('Country').T.dropna()\n",
    "debt.head(3)"
   ]
  },
  {
   "cell_type": "code",
   "execution_count": null,
   "metadata": {
    "collapsed": false
   },
   "outputs": [],
   "source": [
    "fig, ax = plt.subplots()\n",
    "debt.plot(ax=ax, lw=2)\n",
    "ax.set_title('Ratio of government debt to GDP', fontsize=14, loc='left')\n",
    "ax.set_ylabel('Government Debt (Percent of GDP)')\n",
    "ax.legend(loc='best', fontsize=10, handlelength=2, labelspacing=0.15)"
   ]
  },
  {
   "cell_type": "markdown",
   "metadata": {},
   "source": [
    "### Questions\n",
    "\n",
    "* What would you change in this picture?\n",
    "* What did you learn?\n",
    "* What else would you like to know?\n",
    "* Where does the data come from?    "
   ]
  },
  {
   "cell_type": "code",
   "execution_count": null,
   "metadata": {
    "collapsed": true
   },
   "outputs": [],
   "source": []
  },
  {
   "cell_type": "markdown",
   "metadata": {},
   "source": [
    "## Example:  Options data\n",
    "\n",
    "**WARNING: This code is currently broken in `pandas_datareader`, so we will skip this for now**\n",
    "\n",
    "The Pandas package is spinning off the remote data access tools, including FRED, World Bank, and so on.  Here we use the new tool, the Pandas DataReader.  This requires installation:  on the command line, enter \n",
    "\n",
    "`conda install pandas-datareader html5lib` \n",
    "\n",
    "and follow instructions.  "
   ]
  },
  {
   "cell_type": "markdown",
   "metadata": {},
   "source": [
    "You can run commands on the command line from within jupyter by putting a `!` at the beginning of the line. To run the commands above you can do enter the following in a code cell:\n",
    "\n",
    "```\n",
    "!conda install -y pandas-datareader html5lib\n",
    "```"
   ]
  },
  {
   "cell_type": "markdown",
   "metadata": {},
   "source": [
    "We'll use the `Options` tool, which reads in prices of stock options from [Yahoo Finance](http://finance.yahoo.com/q/op?s=AMZN+Options).  The options come with a variety of contract specifications:\n",
    "\n",
    "* Type.  **Calls** are options to buy, **puts** are options to sell.  \n",
    "* Expiration.  The date when the option expires.  \n",
    "* **Underlying**.  The asset you have a right to buy or sell.  In this data, it's a stock.  \n",
    "* **Strike price**.  The price at which you are able to buy (calls) or sell (puts) the underlying.  \n",
    "\n",
    "We give an illustration using options on Amazon stock.  \n",
    "\n",
    "**The first version of this module was written by our very own Spencer Lyon.**  "
   ]
  },
  {
   "cell_type": "markdown",
   "metadata": {
    "collapsed": false
   },
   "source": [
    "```Python\n",
    "\n",
    "from pandas_datareader.data import Options\n",
    "\n",
    "\"\"\"\n",
    "supply ticker, get option prices \n",
    "\"\"\"\n",
    "ticker = 'aapl'\n",
    "aapl = Options(ticker, 'yahoo')\n",
    "data = aapl.get_all_data()\n",
    "\n",
    "exp = aapl.expiry_dates     # get expiration dates \n",
    "exp\n",
    "```"
   ]
  },
  {
   "cell_type": "markdown",
   "metadata": {
    "collapsed": false
   },
   "source": [
    "```Python\n",
    "# get option prices \n",
    "cols = [0, 1, 2, 7]   \n",
    "opexp = 2\n",
    "print('Options with expiry', exp[opexp])\n",
    "calls = otk.get_call_data(expiry=exp[opexp])[cols]\n",
    "puts  = otk.get_put_data(expiry=exp[opexp])[cols]\n",
    "\n",
    "calls.head()\n",
    "```"
   ]
  },
  {
   "cell_type": "markdown",
   "metadata": {
    "collapsed": false
   },
   "source": [
    "```Python\n",
    "# drop extra index levels \n",
    "calls = calls.reset_index(level=[1,2,3], drop=True)\n",
    "puts  = puts.reset_index(level=[1,2,3], drop=True)\n",
    "\n",
    "# cut off extremes \n",
    "spot = otk.underlying_price\n",
    "print('Spot price', spot)\n",
    "delta = 0.25\n",
    "calls  = calls[(calls.index >= (1-delta)*spot) & (calls.index <= (1+delta)*spot)]\n",
    "puts  = puts[(puts.index >= (1-delta)*spot) & (puts.index <= (1+delta)*spot)]\n",
    "\n",
    "# compute avg of bid and ask  \n",
    "calls['Mid'] = (calls['Bid'] + calls['Ask'])/2\n",
    "puts['Mid']  = (puts['Bid'] + puts['Ask'])/2\n",
    "```"
   ]
  },
  {
   "cell_type": "markdown",
   "metadata": {
    "collapsed": false
   },
   "source": [
    "```Python\n",
    "# plot put and call prices\n",
    "which = 'Mid'\n",
    "\n",
    "fig, ax = plt.subplots()\n",
    "calls[which].plot(lw=2, color='blue', alpha=0.6, ax=ax)\n",
    "puts[which].plot(lw=2, color='magenta', alpha=0.6, ax=ax)\n",
    "ymin, ymax = ax.get_ylim()\n",
    "xmin, xmax = ax.get_xlim()\n",
    "ax.set_title('Prices of Amazon options (bid-ask avg)', fontsize=14, loc='left')\n",
    "ax.set_ylabel('Option Prices')\n",
    "ax.set_xlabel('Strike Price')\n",
    "ax.vlines(x=spot, ymin=ymin, ymax=ymax, linestyle='dashed')\n",
    "ax.text(1.01*spot, 0.9*ymax, 'Stock price', horizontalalignment='left')\n",
    "ax.text(0.875*spot, 0.13*ymax, 'Put prices', horizontalalignment='right', color='m')\n",
    "ax.text(1.125*spot, 0.13*ymax, 'Call prices', horizontalalignment='left', color='b') \n",
    "```"
   ]
  },
  {
   "cell_type": "markdown",
   "metadata": {
    "collapsed": true
   },
   "source": [
    "### Questions\n",
    "\n",
    "* What would you change in this picture?\n",
    "* What did you learn?\n",
    "* What else would you like to know?\n",
    "* Where does the data come from?    "
   ]
  },
  {
   "cell_type": "code",
   "execution_count": null,
   "metadata": {
    "collapsed": true
   },
   "outputs": [],
   "source": []
  },
  {
   "cell_type": "markdown",
   "metadata": {
    "collapsed": false
   },
   "source": [
    "## Example:  Japan's aging population \n",
    "\n",
    "Data from the [UN's Population Division](http://esa.un.org/unpd/wpp/Download/Standard/Population/).  One of our favorite quotes:\n",
    "\n",
    "> Last year, for the first time, sales of adult diapers in Japan exceeded those for babies. \n",
    "\n",
    "This is what the numbers look like.  They're UN projections, what they call the \"medium variant.\" "
   ]
  },
  {
   "cell_type": "code",
   "execution_count": null,
   "metadata": {
    "collapsed": false
   },
   "outputs": [],
   "source": [
    "url1 = 'http://esa.un.org/unpd/wpp/DVD/Files/'\n",
    "url2 = '1_Indicators%20(Standard)/EXCEL_FILES/1_Population/'\n",
    "url3 = 'WPP2017_POP_F07_1_POPULATION_BY_AGE_BOTH_SEXES.XLSX'\n",
    "url = url1 + url2 + url3 \n",
    "\n",
    "cols = [2, 4, 5] + list(range(6,28))\n",
    "#est = pd.read_excel(url, sheetname=0, skiprows=16, parse_cols=cols, na_values=['…'])\n",
    "prj = pd.read_excel(url, sheetname=1, skiprows=16, parse_cols=cols, na_values=['…'])\n",
    "\n",
    "\"\"\"\n",
    "for later:  change cols for the two sources, rename 80+ to 80-84, then concat \n",
    "#pop = pd.concat([est, prj], axis=0, join='outer')      \n",
    "\"\"\"\n",
    "pop = prj "
   ]
  },
  {
   "cell_type": "code",
   "execution_count": null,
   "metadata": {
    "collapsed": false
   },
   "outputs": [],
   "source": [
    "pop.head()"
   ]
  },
  {
   "cell_type": "code",
   "execution_count": null,
   "metadata": {
    "collapsed": false
   },
   "outputs": [],
   "source": [
    "# rename some variables \n",
    "pop = pop.rename(columns={'Reference date (as of 1 July)': 'Year', \n",
    "                          'Region, subregion, country or area *': 'Country', \n",
    "                          'Country code': 'Code'})\n",
    "# select Japan and years \n",
    "countries = ['Japan']\n",
    "years     = [2015, 2025, 2035, 2045, 2055, 2065]\n",
    "pop = pop[pop['Country'].isin(countries) & pop['Year'].isin(years)]\n",
    "pop = pop.drop(['Country', 'Code'], axis=1)\n",
    "pop.head()"
   ]
  },
  {
   "cell_type": "code",
   "execution_count": null,
   "metadata": {
    "collapsed": false
   },
   "outputs": [],
   "source": [
    "pop = pop.set_index('Year').T\n",
    "pop.head()"
   ]
  },
  {
   "cell_type": "code",
   "execution_count": null,
   "metadata": {
    "collapsed": false
   },
   "outputs": [],
   "source": [
    "fig, ax = plt.subplots(6, 1)\n",
    "pop.plot(ax=ax[0])\n",
    "pop.plot(ax=ax[1])"
   ]
  },
  {
   "cell_type": "code",
   "execution_count": null,
   "metadata": {
    "collapsed": false
   },
   "outputs": [],
   "source": [
    "ax = pop.plot(kind='bar',  \n",
    "         alpha=0.5, subplots=True, sharey=True, figsize=(6, 8))\n",
    "for axnum in range(len(ax)):  \n",
    "    ax[axnum].set_title('')\n",
    "    ax[axnum].legend(loc='upper left', prop={'size':10})\n",
    "    \n",
    "ax[0].set_title('Japanese population by age', fontsize=14, loc='left')   "
   ]
  },
  {
   "cell_type": "markdown",
   "metadata": {},
   "source": [
    "### Questions\n",
    "\n",
    "* What would you change in this picture?\n",
    "* What did you learn?\n",
    "* What else would you like to know?\n",
    "* Where does the data come from?    "
   ]
  },
  {
   "cell_type": "code",
   "execution_count": null,
   "metadata": {
    "collapsed": true
   },
   "outputs": [],
   "source": []
  },
  {
   "cell_type": "markdown",
   "metadata": {},
   "source": [
    "## Example:  Birth rates\n",
    "\n",
    "We might wonder, why is the population falling in Japan?  Other countries?  Well, one reason is that birth rates are falling.  Demographers call this fertility.  Here we look at the fertility using the same [UN source](http://esa.un.org/unpd/wpp/Download/Standard/Fertility/) as the previous example.  We look at two variables:  total fertility and fertility by age of mother.  In both cases we explore the numbers to date, but the same files contain projections of future fertility.  "
   ]
  },
  {
   "cell_type": "code",
   "execution_count": null,
   "metadata": {
    "collapsed": false
   },
   "outputs": [],
   "source": [
    "%%time\n",
    "\n",
    "# fertility overall \n",
    "uft  = 'http://esa.un.org/unpd/wpp/DVD/Files/'\n",
    "uft += '1_Indicators%20(Standard)/EXCEL_FILES/'\n",
    "uft += '2_Fertility/WPP2017_FERT_F04_TOTAL_FERTILITY.XLSX'\n",
    "\n",
    "cols = [2, 4] + list(range(5,18))\n",
    "ftot = pd.read_excel(uft, sheetname=0, skiprows=16, parse_cols=cols, na_values=['…'])\n",
    "\n",
    "# fertility by age \n",
    "ufa  = 'http://esa.un.org/unpd/wpp/DVD/Files/'\n",
    "ufa += '1_Indicators%20(Standard)/EXCEL_FILES/'\n",
    "ufa += '2_Fertility/WPP2017_FERT_F07_AGE_SPECIFIC_FERTILITY.XLSX'\n",
    "\n",
    "#cols = [2, 4, 5] + list(range(6,13))\n",
    "#fage = pd.read_excel(ufa, sheetname=0, skiprows=16, parse_cols=cols, na_values=['…'])"
   ]
  },
  {
   "cell_type": "code",
   "execution_count": null,
   "metadata": {
    "collapsed": false
   },
   "outputs": [],
   "source": [
    "ftot.head(3) #[list(range(10))]"
   ]
  },
  {
   "cell_type": "code",
   "execution_count": null,
   "metadata": {
    "collapsed": false
   },
   "outputs": [],
   "source": [
    "# rename some variables \n",
    "ftot = ftot.rename(columns={'Region, subregion, country or area *': 'Country', \n",
    "                            'Country code': 'Code'})"
   ]
  },
  {
   "cell_type": "code",
   "execution_count": null,
   "metadata": {
    "collapsed": false
   },
   "outputs": [],
   "source": [
    "# drop code \n",
    "f = ftot.drop(['Code'], axis=1)\n",
    "\n",
    "# select countries \n",
    "countries = ['China', 'Japan', 'Germany', 'United States of America']\n",
    "f = f[f['Country'].isin(countries)]\n",
    "\n",
    "# shape\n",
    "f = f.set_index('Country').T \n",
    "f = f.rename(columns={'United States of America': 'United States'})\n",
    "f.tail()"
   ]
  },
  {
   "cell_type": "code",
   "execution_count": null,
   "metadata": {
    "collapsed": false
   },
   "outputs": [],
   "source": [
    "fig, ax = plt.subplots()\n",
    "f.plot(ax=ax, kind='line', alpha=0.5, lw=3, figsize=(6.5, 4))\n",
    "ax.set_title('Fertility rate (births per woman, lifetime)', fontsize=14, loc='left')\n",
    "ax.legend(loc='best', fontsize=10, handlelength=2, labelspacing=0.15)\n",
    "ax.set_ylim(ymin=0)\n",
    "ax.hlines(2.1, -1, 13, linestyles='dashed')\n",
    "ax.text(8.5, 2.4, 'Replacement = 2.1')"
   ]
  },
  {
   "cell_type": "markdown",
   "metadata": {
    "collapsed": true
   },
   "source": [
    "### Questions\n",
    "\n",
    "* What would you change in this picture?\n",
    "* What did you learn?\n",
    "* What else would you like to know?\n",
    "* Where does the data come from?    "
   ]
  },
  {
   "cell_type": "code",
   "execution_count": null,
   "metadata": {
    "collapsed": true
   },
   "outputs": [],
   "source": []
  },
  {
   "cell_type": "markdown",
   "metadata": {
    "collapsed": true
   },
   "source": [
    "## Example:  US government bond yields \n",
    "\n",
    "People often refer to interest rates moving up and down, but in fact the **yields** (as we call them) move up and down differently at different maturities.  From 2010 to 2015, for examples, yields on bonds with maturities under 2 years were essentially fixed at zero, but yields on higher maturities moved up and down quite a bit.  \n",
    "\n",
    "One challenge with bond yields is getting good data.  Bonds are typically traded over the counter, and those bonds differ in maturity, coupon, and often other features.  Analysts often focus on the interest rates of pure discount \"zero-coupon\" bonds, which they infer from prices of coupon bonds -- which are, after all, what is generally traded.  This isn't something to go into unless you have a strong interest.  Suffice it to say that we have taken these yields from [estimates supplied by the Fed](http://www.federalreserve.gov/pubs/feds/2006/200628/200628abs.html).\n",
    "\n",
    "This is still a work in progress, but our goal is to produce a movie of bond yields over time.  "
   ]
  },
  {
   "cell_type": "code",
   "execution_count": null,
   "metadata": {
    "collapsed": false
   },
   "outputs": [],
   "source": [
    "url = 'http://pages.stern.nyu.edu/~dbackus/Data/GSW_nominal_yields.csv'\n",
    "y = pd.read_csv(url, index_col=0, parse_dates=True)\n",
    "y.tail()"
   ]
  },
  {
   "cell_type": "code",
   "execution_count": null,
   "metadata": {
    "collapsed": false
   },
   "outputs": [],
   "source": [
    "# compute mean yields\n",
    "ybar = y.mean(axis=0)\n",
    "ystd = y.std(axis=0)\n",
    "maturities = list(range(1,122))\n",
    "ybar.index = maturities\n",
    "ystd.index = maturities"
   ]
  },
  {
   "cell_type": "code",
   "execution_count": null,
   "metadata": {
    "collapsed": false
   },
   "outputs": [],
   "source": [
    "fig, ax = plt.subplots()\n",
    "ybar.plot(ax=ax)\n",
    "ystd.plot(ax=ax)\n",
    "ax.set_xlabel('Maturity in Months')\n",
    "ax.set_ylabel('Mean and Std Dev of Yield (Annual Percent)')\n",
    "ax.set_ylim(0)\n",
    "ax.legend([\"Mean\", \"std. dev.\"])"
   ]
  },
  {
   "cell_type": "markdown",
   "metadata": {
    "collapsed": true
   },
   "source": [
    "## Starbucks Revenue\n",
    "\n",
    "This data was given to us by one of our students. "
   ]
  },
  {
   "cell_type": "code",
   "execution_count": null,
   "metadata": {
    "collapsed": false
   },
   "outputs": [],
   "source": [
    "url1 = \"https://github.com/NYUDataBootcamp/Materials/blob/master/\"\n",
    "url2 = \"Data/Starbucks_Revenue_Worldwide.xlsx?raw=true\"\n",
    "url = url1 + url2\n",
    "starbucks = pd.read_excel(url, \n",
    "                          sheetname=1,\n",
    "                          skiprows=4,\n",
    "                          parse_cols=[1,2])\n",
    "starbucks"
   ]
  },
  {
   "cell_type": "code",
   "execution_count": null,
   "metadata": {
    "collapsed": false
   },
   "outputs": [],
   "source": [
    "starbucks.rename(columns={\"Unnamed: 0\": \"year\", \"data\": \"revenue\"}, inplace=True)\n",
    "starbucks"
   ]
  },
  {
   "cell_type": "code",
   "execution_count": null,
   "metadata": {
    "collapsed": false
   },
   "outputs": [],
   "source": [
    "starbucks.set_index(\"year\", inplace=True)\n",
    "starbucks"
   ]
  },
  {
   "cell_type": "code",
   "execution_count": null,
   "metadata": {
    "collapsed": false
   },
   "outputs": [],
   "source": [
    "mpl.rcParams.update(mpl.rcParamsDefault)\n",
    "starbucks.plot()"
   ]
  },
  {
   "cell_type": "code",
   "execution_count": null,
   "metadata": {
    "collapsed": false
   },
   "outputs": [],
   "source": [
    "starbucks_growth = starbucks.pct_change()\n",
    "starbucks_growth"
   ]
  },
  {
   "cell_type": "code",
   "execution_count": null,
   "metadata": {
    "collapsed": false
   },
   "outputs": [],
   "source": [
    "starbucks_growth.plot()"
   ]
  },
  {
   "cell_type": "code",
   "execution_count": null,
   "metadata": {
    "collapsed": true
   },
   "outputs": [],
   "source": []
  },
  {
   "cell_type": "code",
   "execution_count": null,
   "metadata": {
    "collapsed": true
   },
   "outputs": [],
   "source": []
  },
  {
   "cell_type": "code",
   "execution_count": null,
   "metadata": {
    "collapsed": true
   },
   "outputs": [],
   "source": []
  }
 ],
 "metadata": {
  "anaconda-cloud": {},
  "kernelspec": {
   "display_name": "Python [conda root]",
   "language": "python",
   "name": "conda-root-py"
  },
  "language_info": {
   "codemirror_mode": {
    "name": "ipython",
    "version": 3
   },
   "file_extension": ".py",
   "mimetype": "text/x-python",
   "name": "python",
   "nbconvert_exporter": "python",
   "pygments_lexer": "ipython3",
   "version": "3.5.2"
  }
 },
 "nbformat": 4,
 "nbformat_minor": 0
}
